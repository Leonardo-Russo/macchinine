{
 "cells": [
  {
   "cell_type": "markdown",
   "metadata": {},
   "source": [
    "# Scene Creation\n",
    "\n",
    "The aim of this notebook is to create a scene with chosen camera intrinsic and extrinsic parameters.\n",
    "\n",
    "A scene consists of the following elements:\n",
    "\n",
    "- Camera Frames\n",
    "- Bounding Box Labels\n",
    "- Center of Mass Ground Truth"
   ]
  },
  {
   "cell_type": "code",
   "execution_count": null,
   "metadata": {
    "vscode": {
     "languageId": "plaintext"
    }
   },
   "outputs": [],
   "source": [
    "np.random.seed(42)"
   ]
  }
 ],
 "metadata": {
  "language_info": {
   "name": "python"
  }
 },
 "nbformat": 4,
 "nbformat_minor": 2
}
