{
 "cells": [
  {
   "cell_type": "markdown",
   "metadata": {},
   "source": [
    "# Cinepresa\n",
    "\n",
    "**Bisogna sistemare l'illuminazione di merda, poi si possono unire gli script `load_camera` e `load_csv` in un unico solo**"
   ]
  },
  {
   "cell_type": "code",
   "execution_count": 29,
   "metadata": {},
   "outputs": [],
   "source": [
    "import subprocess\n",
    "\n",
    "# Specify path to Blender executable and project file\n",
    "blender = r\"D:\\Programs\\Blender 4.0\\blender.exe\"\n",
    "blend_path = r\"G:\\Il mio Drive\\Codes\\Python\\Macchinine\\blender\\untitled.blend\"\n",
    "\n",
    "# Create a new Blender project\n",
    "create_command = [blender, '-b', '-P', 'create_blend.py']\n",
    "create_process = subprocess.run(create_command, capture_output=True, text=True)\n",
    "\n",
    "# Load the Data in the Blender project\n",
    "csv_command = [blender, '-b', blend_path, '-P', 'load_csv.py']\n",
    "csv_process = subprocess.run(csv_command, capture_output=True, text=True)\n",
    "\n",
    "# Load the Camera in the Blender project\n",
    "camera_command = [blender, '-b', blend_path, '-P', 'load_camera.py']\n",
    "camera_process = subprocess.run(camera_command, capture_output=True, text=True)\n",
    "\n",
    "# Render the Blender project\n",
    "render_command = [blender, '-b', blend_path, '-P', 'render.py']\n",
    "render_process = subprocess.run(render_command, capture_output=True, text=True)\n",
    "\n",
    "# Check for errors and print output if necessary\n",
    "if create_process.returncode != 0:\n",
    "    print(\"Error creating Blender project:\")\n",
    "    print(create_process.stderr)\n",
    "if csv_process.returncode != 0:\n",
    "    print(\"Error loading data into Blender project:\")\n",
    "    print(csv_process.stderr)\n",
    "if camera_process.returncode != 0:\n",
    "    print(\"Error loading camera into Blender project:\")\n",
    "    print(camera_process.stderr)\n",
    "if render_process.returncode != 0:\n",
    "    print(\"Error rendering Blender project:\")\n",
    "    print(render_process.stderr)\n"
   ]
  }
 ],
 "metadata": {
  "kernelspec": {
   "display_name": "macchinine",
   "language": "python",
   "name": "python3"
  },
  "language_info": {
   "codemirror_mode": {
    "name": "ipython",
    "version": 3
   },
   "file_extension": ".py",
   "mimetype": "text/x-python",
   "name": "python",
   "nbconvert_exporter": "python",
   "pygments_lexer": "ipython3",
   "version": "3.11.8"
  }
 },
 "nbformat": 4,
 "nbformat_minor": 2
}
